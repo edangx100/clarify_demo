{
 "cells": [
  {
   "cell_type": "markdown",
   "metadata": {},
   "source": [
    "# Amazon SageMaker model bias monitor: Fairness and explainability with SageMaker Clarify"
   ]
  },
  {
   "cell_type": "markdown",
   "metadata": {},
   "source": [
    "Amazon SageMaker Clarify helps improve your machine learning models by detecting potential bias and helping explain how these models make predictions. The fairness and explainability functionality provided by Clarify takes a step towards helping you to build trustworthy and understandable machine learning models. The product comes with the tools to help you with the following tasks:\n",
    "\n",
    "- Measure biases that can occur during each stage of the machine learning (ML) lifecycle (data collection, model training and tuning, and monitoring of ML models deployed for inference).\n",
    "- Generate model governance reports targeting risk and compliance teams and external regulators.\n",
    "- Provide explanations of the data, models, and monitoring used to assess predictions.\n",
    "\n",
    "In this lab exercise, the production model and SageMaker endpoint is already deployed. You will use SageMaker Clarify to analyze the training dataset and validation datasets, measuring the pre-training bias of a dataset and post-training bias of a model. Finally, you will generate and review an explainability report on the importance of the various input features on the model’s decision.\n",
    "\n",
    "\n",
    "![MLOPS Amazon Clarify architecture](images/ClarifySDK.png)\n",
    "\n"
   ]
  },
  {
   "cell_type": "markdown",
   "metadata": {},
   "source": [
    "## Imports and configurations\n",
    "\n",
    "Run the following cell to import the required Python modules."
   ]
  },
  {
   "cell_type": "code",
   "execution_count": 2,
   "metadata": {},
   "outputs": [],
   "source": [
    "import os\n",
    "import copy\n",
    "import json\n",
    "import random\n",
    "import time\n",
    "import datetime\n",
    "import boto3\n",
    "import pandas as pd\n",
    "\n",
    "from datetime import datetime, timedelta\n",
    "\n",
    "from sagemaker import get_execution_role, image_uris, Session\n",
    "from sagemaker.s3 import S3Downloader, S3Uploader\n",
    "from sagemaker.predictor import Predictor\n",
    "\n",
    "from sagemaker.model_monitor import (\n",
    "    BiasAnalysisConfig,\n",
    "    CronExpressionGenerator,\n",
    "    DataCaptureConfig,\n",
    "    EndpointInput,\n",
    "    ExplainabilityAnalysisConfig,\n",
    "    ModelBiasMonitor,\n",
    "    ModelExplainabilityMonitor,\n",
    ")\n",
    "\n",
    "from sagemaker.clarify import (\n",
    "    BiasConfig,\n",
    "    DataConfig,\n",
    "    ModelConfig,\n",
    "    ModelPredictedLabelConfig,\n",
    "    SHAPConfig,\n",
    ")"
   ]
  },
  {
   "cell_type": "markdown",
   "metadata": {},
   "source": [
    "Run the following code to determine the full name of the modelArtifactBucket for use later."
   ]
  },
  {
   "cell_type": "code",
   "execution_count": 3,
   "metadata": {},
   "outputs": [
    {
     "name": "stdout",
     "output_type": "stream",
     "text": [
      "Bucket Name: qls-5142924-fc6beeb7d2b314f5-modelartifactbucket-1f8d8cpcntqjm\n"
     ]
    }
   ],
   "source": [
    "bucket = ''\n",
    "s3 = boto3.resource('s3')\n",
    "for buckets in s3.buckets.all():\n",
    "    if 'modelartifactbucket' in buckets.name:\n",
    "        bucket = buckets.name\n",
    "\n",
    "print(f\"Bucket Name: {bucket}\")"
   ]
  },
  {
   "cell_type": "markdown",
   "metadata": {},
   "source": [
    "Run the following code to prepopulate SageMaker production endpoint name and production model name."
   ]
  },
  {
   "cell_type": "code",
   "execution_count": 4,
   "metadata": {},
   "outputs": [
    {
     "name": "stdout",
     "output_type": "stream",
     "text": [
      "Production Endpoint Name:ProductionEndpoint-hjzMextUiqLd\n",
      "Production Model Name:ProductionModel-5xNxXxd85t7t\n"
     ]
    }
   ],
   "source": [
    "# Get production endpoint name\n",
    "endpoint_name = boto3.Session().client('sagemaker').list_endpoints(SortBy='CreationTime')['Endpoints'][0]['EndpointName']\n",
    "\n",
    "# Get production model name\n",
    "model_name = boto3.Session().client('sagemaker').list_models(SortBy='CreationTime')['Models'][0]['ModelName']\n",
    "\n",
    "# Check if the endpoint is in service\n",
    "client = boto3.client('sagemaker')\n",
    "result = False\n",
    "while result is False:\n",
    "    response = client.describe_endpoint(EndpointName=endpoint_name)\n",
    "    if (response['EndpointStatus'] == 'InService'):\n",
    "        print(f\"Production Endpoint Name:{endpoint_name}\")\n",
    "        print(f\"Production Model Name:{model_name}\")\n",
    "        result = True\n",
    "    else:\n",
    "        print(\"Waiting for endpoint to be active\")\n",
    "        time.sleep(5)\n",
    "        result = False"
   ]
  },
  {
   "cell_type": "markdown",
   "metadata": {},
   "source": [
    "Run the following code to get the required IAM Role and AWS Region."
   ]
  },
  {
   "cell_type": "code",
   "execution_count": 5,
   "metadata": {},
   "outputs": [
    {
     "name": "stdout",
     "output_type": "stream",
     "text": [
      "RoleArn: arn:aws:iam::704275265636:role/qls-5142924-fc6beeb7d2b314f5-SageMakerStudioRole-T3DP9PS80MKD\n",
      "AWS region: us-west-2\n"
     ]
    }
   ],
   "source": [
    "role = get_execution_role()\n",
    "print(f\"RoleArn: {role}\")\n",
    "\n",
    "sagemaker_session = Session()\n",
    "sagemaker_client = sagemaker_session.sagemaker_client\n",
    "sagemaker_runtime_client = sagemaker_session.sagemaker_runtime_client\n",
    "\n",
    "region = sagemaker_session.boto_region_name\n",
    "print(f\"AWS region: {region}\")"
   ]
  },
  {
   "cell_type": "markdown",
   "metadata": {},
   "source": [
    "Run the following code to create an Amazon S3 path for storing captured data and reports."
   ]
  },
  {
   "cell_type": "code",
   "execution_count": 6,
   "metadata": {},
   "outputs": [
    {
     "name": "stdout",
     "output_type": "stream",
     "text": [
      "S3 key: s3://qls-5142924-fc6beeb7d2b314f5-modelartifactbucket-1f8d8cpcntqjm/sagemaker\n",
      "Capture path: s3://qls-5142924-fc6beeb7d2b314f5-modelartifactbucket-1f8d8cpcntqjm/sagemaker/datacapture\n",
      "Report path: s3://qls-5142924-fc6beeb7d2b314f5-modelartifactbucket-1f8d8cpcntqjm/sagemaker/reports\n"
     ]
    }
   ],
   "source": [
    "prefix = 'sagemaker'\n",
    "s3_key = f\"s3://{bucket}/{prefix}\"\n",
    "print(f\"S3 key: {s3_key}\")\n",
    "\n",
    "code_prefix = '{}/code'.format(prefix)\n",
    "data_capture_prefix = f'{prefix}/datacapture'\n",
    "s3_capture_upload_path = f'{s3_key}/datacapture'\n",
    "s3_report_path = f'{s3_key}/reports'\n",
    "\n",
    "print(f\"Capture path: {s3_capture_upload_path}\")\n",
    "print(f\"Report path: {s3_report_path}\")\n"
   ]
  },
  {
   "cell_type": "markdown",
   "metadata": {},
   "source": [
    "Run the following code to read the train and validate data files."
   ]
  },
  {
   "cell_type": "code",
   "execution_count": 7,
   "metadata": {},
   "outputs": [],
   "source": [
    "test_dataset = \"data/validate.csv\"\n",
    "train_dataset = \"data/train.csv\"\n",
    "dataset_type = \"text/csv\"\n",
    "\n",
    "with open(train_dataset) as f:\n",
    "    headers_line = f.readline().rstrip()\n",
    "all_headers = headers_line.split(\",\")\n",
    "label_header = all_headers[0]"
   ]
  },
  {
   "cell_type": "markdown",
   "metadata": {},
   "source": [
    "## Testing endpoint with sample traffic\n",
    "\n",
    "Run the following code to extract a subset of samples from the validate datasets, and write the sample data as a local csv file. You will have two sets of files:\n",
    "\n",
    "- data-test.csv contains only the feature data. \n",
    "- data-test-label.csv contains the label and feature data."
   ]
  },
  {
   "cell_type": "code",
   "execution_count": 8,
   "metadata": {},
   "outputs": [],
   "source": [
    "# Here we are randomly picking subset of data from test datasets.\n",
    "import itertools\n",
    "\n",
    "shape = pd.read_csv(test_dataset)\n",
    "\n",
    "a = [10*i for i in range(3)]\n",
    "b = [10+i for i in range(10)]\n",
    "indices = [i+j for i,j in itertools.product(a,b)]\n",
    "\n",
    "test_data = shape.drop(shape.columns[[0]],axis=1)\n",
    "test_data = test_data.iloc[indices]\n",
    "test_data_with_label = shape.iloc[indices]"
   ]
  },
  {
   "cell_type": "code",
   "execution_count": 9,
   "metadata": {},
   "outputs": [],
   "source": [
    "test_data.to_csv(\"data/data-test.csv\",index=False,header=False)\n",
    "test_data_with_label.to_csv(\"data/data-test-label.csv\",index=False,header=False)"
   ]
  },
  {
   "cell_type": "markdown",
   "metadata": {},
   "source": [
    "Run the following code to perform the prediction. You will use the sample dataset you populated in the previous steps as a payload. At the end of the run, you will see the prediction as \"0\" or \"1\"."
   ]
  },
  {
   "cell_type": "code",
   "execution_count": 10,
   "metadata": {},
   "outputs": [
    {
     "name": "stdout",
     "output_type": "stream",
     "text": [
      "Sending test traffic to the endpoint ProductionEndpoint-hjzMextUiqLd. \n",
      "Please wait...\n",
      "..............................====================\n",
      "['0', '0', '0', '0', '0', '0', '0', '0', '0', '0', '0', '0', '0', '0', '0', '0', '1', '0', '0', '0', '0', '0', '0', '0', '0', '0', '0', '0', '0', '0']\n",
      "Done!\n"
     ]
    }
   ],
   "source": [
    "# Invoke Endpoint with test data for a quick test\n",
    "print(f\"Sending test traffic to the endpoint {endpoint_name}. \\nPlease wait...\")\n",
    "predictions = ''\n",
    "\n",
    "with open('data/data-test.csv', 'r') as f:\n",
    "    for row in f:\n",
    "        print(\".\", end=\"\", flush=True)\n",
    "        payload = row.rstrip('\\n')\n",
    "        response = sagemaker_runtime_client.invoke_endpoint(EndpointName=endpoint_name,\n",
    "                                   ContentType=\"text/csv\",\n",
    "                                   Body=payload)\n",
    "        predictions = ','.join([predictions, response['Body'].read().decode('utf-8')])\n",
    "        time.sleep(0.5)\n",
    "\n",
    "predictions = predictions.replace('\\n','')\n",
    "predictions = predictions.split(\",\")\n",
    "predictions.pop(0)\n",
    "print(\"=\"*20)\n",
    "print(predictions)\n",
    "print(\"Done!\") "
   ]
  },
  {
   "cell_type": "markdown",
   "metadata": {},
   "source": [
    "## View captured data\n",
    "\n",
    "Run the following code to list the data capture files stored in S3. You should expect to see different files from different time periods organized based on the hour in which the invocation occurred. Rerun the cell if you see failure logs in the output.\n"
   ]
  },
  {
   "cell_type": "code",
   "execution_count": 11,
   "metadata": {},
   "outputs": [
    {
     "name": "stdout",
     "output_type": "stream",
     "text": [
      "Waiting 2 minutes for file to load...\n",
      "Found Capture Files:\n",
      "\n",
      "s3://qls-5142924-fc6beeb7d2b314f5-modelartifactbucket-1f8d8cpcntqjmsagemaker/datacapture/ProductionEndpoint-hjzMextUiqLd/ProductionModel-5xNxXxd85t7t/2021/12/08/06/34-31-704-0a2f5311-f320-41fd-8803-ad15a36b7a3d.jsonl\n"
     ]
    }
   ],
   "source": [
    "print(\"Waiting 2 minutes for file to load...\")\n",
    "time.sleep(120)\n",
    "s3_client = boto3.Session().client('s3')\n",
    "current_endpoint_capture_prefix = '{}/{}'.format(data_capture_prefix, endpoint_name)\n",
    "result = s3_client.list_objects(Bucket=bucket, Prefix=current_endpoint_capture_prefix)\n",
    "capture_files = [capture_file.get(\"Key\") for capture_file in result.get('Contents')]\n",
    "print(\"Found Capture Files:\")\n",
    "print(\"\\ns3://\"+bucket+str(capture_files[0]))"
   ]
  },
  {
   "cell_type": "markdown",
   "metadata": {},
   "source": [
    "Run the following code to view the contents of a single capture file. Here, you should see all the data captured in a SageMaker specific JSON formatted file. Take a quick peek at the first few lines in the captured file."
   ]
  },
  {
   "cell_type": "code",
   "execution_count": 12,
   "metadata": {},
   "outputs": [
    {
     "name": "stdout",
     "output_type": "stream",
     "text": [
      "{\"captureData\":{\"endpointInput\":{\"observedContentType\":\"text/csv\",\"mode\":\"INPUT\",\"data\":\"105,0,193.7,108,183.2,124,293.7,72,10.8,5,1,0,0,0,0,0,0,0,0,0,0,0,0,0,0,0,0,0,0,0,0,0,0,0,0,0,0,0,0,0,0,0,0,1,0,0,0,0,0,0,0,0,0,0,0,0,0,0,0,0,0,0,0,1,0,1,0,1,0\",\"encoding\":\"CSV\"},\"endpointOutput\":{\"observedContentType\":\"text/csv; charset=utf-8\",\"mode\":\"OUTPUT\",\"data\":\"0\\n\",\"encoding\":\"CSV\"}},\"eventMetadata\":{\"eventId\":\"a51e65b5-ee06-4084-8d43-132030dd68f0\",\"inferenceTime\":\"2021-12-08T06:34:31Z\"},\"eventVersion\":\"0\"}\n",
      "{\"captureData\":{\"endpointInput\":{\"observedContentType\":\"text/csv\",\"mode\":\"INPUT\",\"data\":\"114,4,141.3,96,230.4,88,223.7,85,9.4,3,3,0,0,0,0,0,0,0,0,0,0,0,0,0,0,0,0,0,0,0,0,0,0,0,0,0,0,0,0,0,0,0,0,0,0,0,0,0,0,0,0,1,0,0,0,0,0,0,0,0,0,0,0,0,1,1,0,0,1\",\"encoding\":\"CSV\"},\"endpointOutput\":{\"observedContentType\":\"text/csv; charset=utf-8\",\"mode\":\"OUTPUT\",\"data\":\"0\\n\",\"encoding\":\"CSV\"}},\"eventMetadata\":{\"eventId\":\"a379a935-8b7f-479d-8311-2e04c88f1daf\",\"inferenceTime\":\"2021-12-08T06:34:32Z\"},\"eventVersion\":\"0\"}\n",
      "{\"captureData\":{\"endpointInput\":{\"observedContentType\":\"text/csv\",\"mode\":\"INPUT\",\"data\":\"117,0,54.2,100,303.2,84,171.8,84,8.6,2,1,0,0,0,0,0,0,0,0,0,0,0,0,0,0,0,0,0,0,0,0,0,0,0,0,0,0,0,0,0,0,1,0,0,0,0,0,0,0,0,0,0,0,0,0,0,0,0,0,0,0,0,0,0,1,0,1,1,0\",\"encoding\":\"CSV\"},\"endpointOutput\":{\"observedContentType\":\"text/csv; charset=utf-8\",\"mode\":\"OUTPUT\",\"data\":\"0\\n\",\"encoding\":\"CSV\"}},\"eventMetadata\":{\"eventId\":\"1adf0904-36f0-45e6-a32d-c59d223c0eb1\",\"inferenceTime\":\"2021-12-08T06:34:32Z\"},\"eventVersion\":\"0\"}\n",
      "{\"captureData\":{\"endpointInput\":{\"observedContentType\":\"text/csv\",\"mode\":\"INPUT\",\"data\":\"75,0,166.7,113,148.3,122,186.9,121,10.1,3,3,0,0,0,0,0,0,0,0,0,0,0,0,0,0,0,0,0,0,0,0,0,0,0,0,0,0,0,0,0,0,0,0,0,0,0,0,1,0,0,0,0,0,0,0,0,0,0,0,0,0,0,0,1,0,0,1,1,0\",\"encoding\":\"CSV\"},\"endpointOutput\":{\"observedContentType\":\"text/csv; charset=utf-8\",\"mode\":\"OUTPUT\",\"data\":\"0\\n\",\"encoding\":\"CSV\"}},\"eventMetadata\":{\"eventId\":\"7deda779-e17e-4408-a707-45f236bc3b69\",\"inferenceTime\":\"2021-12-08T06:34:\n"
     ]
    }
   ],
   "source": [
    "def get_obj_body(obj_key):\n",
    "    return s3_client.get_object(Bucket=bucket, Key=obj_key).get('Body').read().decode(\"utf-8\")\n",
    "\n",
    "capture_file = get_obj_body(capture_files[-1])\n",
    "print(capture_file[:2000])"
   ]
  },
  {
   "cell_type": "markdown",
   "metadata": {},
   "source": [
    "Run the following code to view content of a single line in the formatted JSON object."
   ]
  },
  {
   "cell_type": "code",
   "execution_count": 13,
   "metadata": {},
   "outputs": [
    {
     "name": "stdout",
     "output_type": "stream",
     "text": [
      "{\n",
      "  \"captureData\": {\n",
      "    \"endpointInput\": {\n",
      "      \"observedContentType\": \"text/csv\",\n",
      "      \"mode\": \"INPUT\",\n",
      "      \"data\": \"105,0,193.7,108,183.2,124,293.7,72,10.8,5,1,0,0,0,0,0,0,0,0,0,0,0,0,0,0,0,0,0,0,0,0,0,0,0,0,0,0,0,0,0,0,0,0,1,0,0,0,0,0,0,0,0,0,0,0,0,0,0,0,0,0,0,0,1,0,1,0,1,0\",\n",
      "      \"encoding\": \"CSV\"\n",
      "    },\n",
      "    \"endpointOutput\": {\n",
      "      \"observedContentType\": \"text/csv; charset=utf-8\",\n",
      "      \"mode\": \"OUTPUT\",\n",
      "      \"data\": \"0\\n\",\n",
      "      \"encoding\": \"CSV\"\n",
      "    }\n",
      "  },\n",
      "  \"eventMetadata\": {\n",
      "    \"eventId\": \"a51e65b5-ee06-4084-8d43-132030dd68f0\",\n",
      "    \"inferenceTime\": \"2021-12-08T06:34:31Z\"\n",
      "  },\n",
      "  \"eventVersion\": \"0\"\n",
      "}\n"
     ]
    }
   ],
   "source": [
    "import json\n",
    "print(json.dumps(json.loads(capture_file.split('\\n')[0]), indent=2))"
   ]
  },
  {
   "cell_type": "markdown",
   "metadata": {},
   "source": [
    "## Amazon SageMaker Clarify setup"
   ]
  },
  {
   "cell_type": "markdown",
   "metadata": {},
   "source": [
    "**Note:** The following code code samples are taken from [sample code](https://github.com/aws/amazon-sagemaker-examples/blob/master/sagemaker_processing/fairness_and_explainability/fairness_and_explainability.ipynb) provided by the Amazon SageMaker team. Some of the codes are updated to the lab requirements."
   ]
  },
  {
   "cell_type": "markdown",
   "metadata": {},
   "source": [
    "Run the following code to use the SageMaker Clarify processor.\n",
    "\n",
    "The Clarify processor is setting up the infrastructure that will be used to run the bias detection on a distributed cluster.  In this example, there is only one instance in the cluster. To learn more about Clarify configuration, see [Configure an Amazon SageMaker Clarify Processing Jobs for Fairness and Explainability](https://docs.aws.amazon.com/sagemaker/latest/dg/clarify-configure-processing-jobs.html)."
   ]
  },
  {
   "cell_type": "code",
   "execution_count": 14,
   "metadata": {},
   "outputs": [],
   "source": [
    "from sagemaker import clarify\n",
    "clarify_processor = clarify.SageMakerClarifyProcessor(role=role,\n",
    "                                                      instance_count=1,\n",
    "                                                      instance_type='ml.m5.xlarge',\n",
    "                                                      sagemaker_session=sagemaker_session)"
   ]
  },
  {
   "cell_type": "markdown",
   "metadata": {},
   "source": [
    "Run the following code to upload the test and train datasets to S3. The _train_uri_ and _test_uri_ will be used to directly pull data from S3, writing the dataconfig and modelconfig in the next steps."
   ]
  },
  {
   "cell_type": "code",
   "execution_count": 15,
   "metadata": {},
   "outputs": [],
   "source": [
    "from sagemaker.s3 import S3Uploader\n",
    "from sagemaker.inputs import TrainingInput\n",
    "\n",
    "train_uri = S3Uploader.upload('data/train.csv', 's3://{}/{}'.format(bucket, prefix))\n",
    "train_input = TrainingInput(train_uri, content_type='csv')\n",
    "test_uri = S3Uploader.upload('data/validate.csv', 's3://{}/{}'.format(bucket, prefix))"
   ]
  },
  {
   "cell_type": "markdown",
   "metadata": {},
   "source": [
    "## Detecting bias\n",
    "\n",
    "#### SageMaker Clarify helps you detect possible pre- and post-training biases using a variety of metrics.\n",
    "\n",
    "### Writing DataConfig and ModelConfig\n",
    "\n",
    "A **DataConfig** object communicates some basic information about data I/O to Clarify. You will specify where to find the input dataset, where to store the output, the target column (label), the header names, and the dataset type.\n",
    "\n"
   ]
  },
  {
   "cell_type": "markdown",
   "metadata": {},
   "source": [
    "Run the following code to define DataConfig."
   ]
  },
  {
   "cell_type": "code",
   "execution_count": 16,
   "metadata": {},
   "outputs": [],
   "source": [
    "bias_report_output_path = 's3://{}/{}/clarify-bias'.format(bucket, prefix)\n",
    "bias_data_config = clarify.DataConfig(s3_data_input_path=train_uri,\n",
    "                                      s3_output_path=bias_report_output_path,\n",
    "                                      label='Churn',\n",
    "                                      headers=all_headers,\n",
    "                                      dataset_type='text/csv')"
   ]
  },
  {
   "cell_type": "markdown",
   "metadata": {},
   "source": [
    "A **ModelConfig** object communicates information about your trained model. To avoid additional traffic to your production models, Clarify sets up and tears down a dedicated endpoint when processing.\n",
    "\n",
    "- **instance_type** and **instance_count** specify the preferred instance type and instance count used to run your model while processing in Clarify. The testing dataset is small so a single standard instance is good enough to run this example. If you have a large and complex dataset, you might want to use a better instance type to speed it up, or add more instances to enable Spark parallelization.\n",
    "\n",
    "- **accept_type** denotes the endpoint response payload format, and **content_type** denotes the payload format of request to the endpoint."
   ]
  },
  {
   "cell_type": "markdown",
   "metadata": {},
   "source": [
    "Run the following code to define ModelConfig."
   ]
  },
  {
   "cell_type": "code",
   "execution_count": 17,
   "metadata": {},
   "outputs": [],
   "source": [
    "model_config = clarify.ModelConfig(model_name=model_name,\n",
    "                                   instance_type='ml.m5.xlarge',\n",
    "                                   instance_count=1,\n",
    "                                   accept_type='text/csv',\n",
    "                                   content_type='text/csv')"
   ]
  },
  {
   "cell_type": "markdown",
   "metadata": {},
   "source": [
    "A **ModelPredictedLabelConfig** provides information on the format of your predictions. You are using the binary classification for this problem. The random forest model gives you the probabilities of samples, so Clarify invokes the endpoint, and then it uses probability_threshold to convert the probability to binary labels for bias analysis. Prediction above the threshold is interpreted as label value 1; and below or equalto the threshold is interpreted as label value 0."
   ]
  },
  {
   "cell_type": "markdown",
   "metadata": {},
   "source": [
    "Run the following code to define ModelPredictedLabelConfig for clarify."
   ]
  },
  {
   "cell_type": "code",
   "execution_count": 18,
   "metadata": {},
   "outputs": [],
   "source": [
    "predictions_config = clarify.ModelPredictedLabelConfig(probability_threshold=0.8)"
   ]
  },
  {
   "cell_type": "markdown",
   "metadata": {},
   "source": [
    "### Writing BiasConfig\n",
    "Clarify also needs information on what the sensitive columns (facets) are, what the sensitive features (facet_values_or_threshold) may be, and what the desirable outcomes are (label_values_or_threshold). Clarify can handle both categorical and continuous data for facet_values_or_threshold and for label_values_or_threshold. In this case, you are using categorical data.\n",
    "\n",
    "This information is specified in the BiasConfig API. Here, the positive outcome is Churn = 0, _Account Length_ is a sensitive category, _Day Calls_ respondents is the sensitive group, and _group_name_ is used to form subgroups for the measurement."
   ]
  },
  {
   "cell_type": "code",
   "execution_count": 19,
   "metadata": {},
   "outputs": [],
   "source": [
    "bias_config = clarify.BiasConfig(label_values_or_threshold=[0],\n",
    "                                facet_name='Account Length',\n",
    "                                facet_values_or_threshold=[100],\n",
    "                                group_name='Day Calls')"
   ]
  },
  {
   "cell_type": "markdown",
   "metadata": {},
   "source": [
    "#### **Pre-training bias**\n",
    "\n",
    "Bias can be present in your data before any model training occurs. Inspecting your data for bias before training begins can help detect any data collection gaps, inform your feature engineering, and hep you understand what societal biases the data may reflect.\n",
    "\n",
    "Computing pretraining bias metrics does not require a trained model.\n",
    "\n",
    "#### **Post-training bias**\n",
    "\n",
    "Computing post-training bias metrics does require a trained model.\n",
    "\n",
    "Unbiased training data (as determined by concepts of fairness measured by bias metrics) may still result in biased model predictions after training. Whether this occurs depends on several factors, including hyperparameter choices.\n",
    "\n",
    "You can run these options separately with run_pre_training_bias() and run_post_training_bias() or at the same time with run_bias() as shown in the following run."
   ]
  },
  {
   "cell_type": "markdown",
   "metadata": {},
   "source": [
    "Run the following cell to start the Clarify processor for evaluation. It typically takes 10 minutes to complete the Clarify run. Clarify creates an ephemeral SageMaker endpoint for compute and deletes the resource once the calculation is complete."
   ]
  },
  {
   "cell_type": "code",
   "execution_count": 20,
   "metadata": {},
   "outputs": [
    {
     "name": "stdout",
     "output_type": "stream",
     "text": [
      "\n",
      "Job Name:  Clarify-Bias-2021-12-08-06-39-28-369\n",
      "Inputs:  [{'InputName': 'dataset', 'AppManaged': False, 'S3Input': {'S3Uri': 's3://qls-5142924-fc6beeb7d2b314f5-modelartifactbucket-1f8d8cpcntqjm/sagemaker/train.csv', 'LocalPath': '/opt/ml/processing/input/data', 'S3DataType': 'S3Prefix', 'S3InputMode': 'File', 'S3DataDistributionType': 'FullyReplicated', 'S3CompressionType': 'None'}}, {'InputName': 'analysis_config', 'AppManaged': False, 'S3Input': {'S3Uri': 's3://qls-5142924-fc6beeb7d2b314f5-modelartifactbucket-1f8d8cpcntqjm/sagemaker/clarify-bias/analysis_config.json', 'LocalPath': '/opt/ml/processing/input/config', 'S3DataType': 'S3Prefix', 'S3InputMode': 'File', 'S3DataDistributionType': 'FullyReplicated', 'S3CompressionType': 'None'}}]\n",
      "Outputs:  [{'OutputName': 'analysis_result', 'AppManaged': False, 'S3Output': {'S3Uri': 's3://qls-5142924-fc6beeb7d2b314f5-modelartifactbucket-1f8d8cpcntqjm/sagemaker/clarify-bias', 'LocalPath': '/opt/ml/processing/output', 'S3UploadMode': 'EndOfJob'}}]\n",
      "............................\u001b[34mINFO:sagemaker-clarify-processing:Starting SageMaker Clarify Processing job\u001b[0m\n",
      "\u001b[34mINFO:analyzer.data_loading.data_loader_util:Analysis config path: /opt/ml/processing/input/config/analysis_config.json\u001b[0m\n",
      "\u001b[34mINFO:analyzer.data_loading.data_loader_util:Analysis result path: /opt/ml/processing/output\u001b[0m\n",
      "\u001b[34mINFO:analyzer.data_loading.data_loader_util:This host is algo-1.\u001b[0m\n",
      "\u001b[34mINFO:analyzer.data_loading.data_loader_util:This host is the leader.\u001b[0m\n",
      "\u001b[34mINFO:analyzer.data_loading.data_loader_util:Number of hosts in the cluster is 1.\u001b[0m\n",
      "\u001b[34mINFO:sagemaker-clarify-processing:Running Python / Pandas based analyzer.\u001b[0m\n",
      "\u001b[34mINFO:analyzer.data_loading.data_loader_factory:Dataset uri: /opt/ml/processing/input/data\u001b[0m\n",
      "\u001b[34mINFO:analyzer.data_loading.data_loader_factory:Dataset type: text/csv\u001b[0m\n",
      "\u001b[34mINFO:analyzer.predictor:Spinning up shadow endpoint\u001b[0m\n",
      "\u001b[34mINFO:sagemaker:Creating endpoint-config with name sagemaker-clarify-endpoint-config-1638945841-daf4\u001b[0m\n",
      "\u001b[34mINFO:analyzer.predictor:Creating endpoint sagemaker-clarify-endpoint-1638945841-99a6\u001b[0m\n",
      "\u001b[34mINFO:sagemaker-clarify-processing:Using endpoint name: sagemaker-clarify-endpoint-1638945841-99a6\u001b[0m\n",
      "\u001b[34mINFO:sagemaker-clarify-processing:Waiting for endpoint ...\u001b[0m\n",
      "\u001b[34mINFO:analyzer.predictor:Checking endpoint status\u001b[0m\n",
      "\u001b[34mINFO:analyzer.predictor:Endpoint is in service after 120 seconds\u001b[0m\n",
      "\u001b[34mINFO:sagemaker-clarify-processing:Endpoint ready.\u001b[0m\n",
      "\u001b[34mINFO:sagemaker-clarify-processing:======================================\u001b[0m\n",
      "\u001b[34mINFO:sagemaker-clarify-processing:Calculating post-training bias metrics\u001b[0m\n",
      "\u001b[34mINFO:sagemaker-clarify-processing:======================================\u001b[0m\n",
      "\u001b[34mINFO:sagemaker-clarify-processing:Getting predictions from the endpoint\u001b[0m\n",
      "\u001b[34mINFO:analyzer.utils.prediction_util:We assume a prediction above 0.800 indicates 1 and below or equal indicates 0.\u001b[0m\n",
      "\u001b[34mINFO:smclarify.bias.metrics.common:Column Churn with data uniqueness fraction 0.0037593984962406013 is classifed as a CATEGORICAL column\u001b[0m\n",
      "\u001b[34mINFO:smclarify.bias.metrics.common:Column Account Length with data uniqueness fraction 0.31203007518796994 is classifed as a CONTINUOUS column\u001b[0m\n",
      "\u001b[34mINFO:smclarify.bias.metrics.common:Column Churn with data uniqueness fraction 0.0037593984962406013 is classifed as a CATEGORICAL column\u001b[0m\n",
      "\u001b[34mINFO:smclarify.bias.metrics.common:Column None with data uniqueness fraction 0.0037593984962406013 is classifed as a CATEGORICAL column\u001b[0m\n",
      "\u001b[34mINFO:smclarify.bias.report:Threshold Interval indices: IntervalIndex([(100, 225]],\n",
      "              closed='right',\n",
      "              dtype='interval[int64]')\u001b[0m\n",
      "\u001b[34mINFO:analyzer.predictor:Stop using endpoint: sagemaker-clarify-endpoint-1638945841-99a6\u001b[0m\n",
      "\u001b[34mINFO:sagemaker:Deleting endpoint configuration with name: sagemaker-clarify-endpoint-config-1638945841-daf4\u001b[0m\n",
      "\u001b[34mINFO:sagemaker:Deleting endpoint with name: sagemaker-clarify-endpoint-1638945841-99a6\u001b[0m\n",
      "\u001b[34mINFO:analyzer.predictor:Model endpoint delivered 2.57830 requests per second and a total of 2 requests over 1 seconds\u001b[0m\n",
      "\u001b[34mINFO:analyzer.predictor:Stop using endpoint: None\u001b[0m\n",
      "\u001b[34mINFO:sagemaker-clarify-processing:=====================================\u001b[0m\n",
      "\u001b[34mINFO:sagemaker-clarify-processing:Calculating pre-training bias metrics\u001b[0m\n",
      "\u001b[34mINFO:sagemaker-clarify-processing:=====================================\u001b[0m\n",
      "\u001b[34mINFO:smclarify.bias.metrics.common:Column Churn with data uniqueness fraction 0.0037593984962406013 is classifed as a CATEGORICAL column\u001b[0m\n",
      "\u001b[34mINFO:smclarify.bias.metrics.common:Column Account Length with data uniqueness fraction 0.31203007518796994 is classifed as a CONTINUOUS column\u001b[0m\n",
      "\u001b[34mINFO:smclarify.bias.metrics.common:Column Churn with data uniqueness fraction 0.0037593984962406013 is classifed as a CATEGORICAL column\u001b[0m\n",
      "\u001b[34mINFO:smclarify.bias.report:Threshold Interval indices: IntervalIndex([(100, 225]],\n",
      "              closed='right',\n",
      "              dtype='interval[int64]')\u001b[0m\n",
      "\u001b[34mINFO:sagemaker-clarify-processing:======================================\u001b[0m\n",
      "\u001b[34mINFO:sagemaker-clarify-processing:Calculating bias statistics for report\u001b[0m\n",
      "\u001b[34mINFO:sagemaker-clarify-processing:======================================\u001b[0m\n",
      "\u001b[34mINFO:smclarify.bias.metrics.common:Column Churn with data uniqueness fraction 0.0037593984962406013 is classifed as a CATEGORICAL column\u001b[0m\n",
      "\u001b[34mINFO:smclarify.bias.metrics.common:Column Account Length with data uniqueness fraction 0.31203007518796994 is classifed as a CONTINUOUS column\u001b[0m\n",
      "\u001b[34mINFO:smclarify.bias.metrics.common:Column Churn with data uniqueness fraction 0.0037593984962406013 is classifed as a CATEGORICAL column\u001b[0m\n",
      "\u001b[34mINFO:smclarify.bias.metrics.common:Column None with data uniqueness fraction 0.0037593984962406013 is classifed as a CATEGORICAL column\u001b[0m\n",
      "\u001b[34mINFO:smclarify.bias.report:Threshold Interval indices: IntervalIndex([(100, 225]],\n",
      "              closed='right',\n",
      "              dtype='interval[int64]')\u001b[0m\n",
      "\u001b[34mINFO:analyzer.predictor:Stop using endpoint: None\u001b[0m\n",
      "\u001b[34mINFO:analyzer.report:jupyter nbconvert --to html --output /opt/ml/processing/output/report.html /opt/ml/processing/output/report.ipynb --template sagemaker-xai\u001b[0m\n",
      "\u001b[34m[NbConvertApp] Converting notebook /opt/ml/processing/output/report.ipynb to html\u001b[0m\n",
      "\u001b[34m[NbConvertApp] Writing 353370 bytes to /opt/ml/processing/output/report.html\u001b[0m\n",
      "\u001b[34mINFO:analyzer.report:HTML report '/opt/ml/processing/output/report.html' generated successfully.\u001b[0m\n",
      "\u001b[34mINFO:analyzer.report:wkhtmltopdf -q /opt/ml/processing/output/report.html /opt/ml/processing/output/report.pdf\u001b[0m\n",
      "\u001b[34mINFO:analyzer.report:PDF report '/opt/ml/processing/output/report.pdf' generated successfully.\u001b[0m\n",
      "\u001b[34mINFO:sagemaker-clarify-processing:Collected analyses: \u001b[0m\n",
      "\u001b[34m{\n",
      "    \"version\": \"1.0\",\n",
      "    \"post_training_bias_metrics\": {\n",
      "        \"label\": \"Churn\",\n",
      "        \"facets\": {\n",
      "            \"Account Length\": [\n",
      "                {\n",
      "                    \"value_or_threshold\": \"(100, 225]\",\n",
      "                    \"metrics\": [\n",
      "                        {\n",
      "                            \"name\": \"AD\",\n",
      "                            \"description\": \"Accuracy Difference (AD)\",\n",
      "                            \"value\": 0.0\n",
      "                        },\n",
      "                        {\n",
      "                            \"name\": \"CDDPL\",\n",
      "                            \"description\": \"Conditional Demographic Disparity in Predicted Labels (CDDPL)\",\n",
      "                            \"value\": -0.10786096735344856\n",
      "                        },\n",
      "                        {\n",
      "                            \"name\": \"DAR\",\n",
      "                            \"description\": \"Difference in Acceptance Rates (DAR)\",\n",
      "                            \"value\": 0.0\n",
      "                        },\n",
      "                        {\n",
      "                            \"name\": \"DCA\",\n",
      "                            \"description\": \"Difference in Conditional Acceptance (DCA)\",\n",
      "                            \"value\": 0.0\n",
      "                        },\n",
      "                        {\n",
      "                            \"name\": \"DCR\",\n",
      "                            \"description\": \"Difference in Conditional Rejection (DCR)\",\n",
      "                            \"value\": 0.0\n",
      "                        },\n",
      "                        {\n",
      "                            \"name\": \"DI\",\n",
      "                            \"description\": \"Disparate Impact (DI)\",\n",
      "                            \"value\": 0.9873772791023844\n",
      "                        },\n",
      "                        {\n",
      "                            \"name\": \"DPPL\",\n",
      "                            \"description\": \"Difference in Positive Proportions in Predicted Labels (DPPL)\",\n",
      "                            \"value\": 0.010699728260869512\n",
      "                        },\n",
      "                        {\n",
      "                            \"name\": \"DRR\",\n",
      "                            \"description\": \"Difference in Rejection Rates (DRR)\",\n",
      "                            \"value\": 0.0\n",
      "                        },\n",
      "                        {\n",
      "                            \"name\": \"FT\",\n",
      "                            \"description\": \"Flip Test (FT)\",\n",
      "                            \"value\": -0.09420289855072464\n",
      "                        },\n",
      "                        {\n",
      "                            \"name\": \"RD\",\n",
      "                            \"description\": \"Recall Difference (RD)\",\n",
      "                            \"value\": 0.0\n",
      "                        },\n",
      "                        {\n",
      "                            \"name\": \"TE\",\n",
      "                            \"description\": \"Treatment Equality (TE)\",\n",
      "                            \"value\": 0.0\n",
      "                        }\n",
      "                    ]\n",
      "                }\n",
      "            ]\n",
      "        },\n",
      "        \"label_value_or_threshold\": \"0\"\n",
      "    },\n",
      "    \"pre_training_bias_metrics\": {\n",
      "        \"label\": \"Churn\",\n",
      "        \"facets\": {\n",
      "            \"Account Length\": [\n",
      "                {\n",
      "                    \"value_or_threshold\": \"(100, 225]\",\n",
      "                    \"metrics\": [\n",
      "                        {\n",
      "                            \"name\": \"CDDL\",\n",
      "                            \"description\": \"Conditional Demographic Disparity in Labels (CDDL)\",\n",
      "                            \"value\": -0.10786096735344856\n",
      "                        },\n",
      "                        {\n",
      "                            \"name\": \"CI\",\n",
      "                            \"description\": \"Class Imbalance (CI)\",\n",
      "                            \"value\": -0.03759398496240601\n",
      "                        },\n",
      "                        {\n",
      "                            \"name\": \"DPL\",\n",
      "                            \"description\": \"Difference in Positive Proportions in Labels (DPL)\",\n",
      "                            \"value\": 0.010699728260869512\n",
      "                        },\n",
      "                        {\n",
      "                            \"name\": \"JS\",\n",
      "                            \"description\": \"Jensen-Shannon Divergence (JS)\",\n",
      "                            \"value\": 0.00010775612557853073\n",
      "                        },\n",
      "                        {\n",
      "                            \"name\": \"KL\",\n",
      "                            \"description\": \"Kullback-Liebler Divergence (KL)\",\n",
      "                            \"value\": 0.00042713074174473287\n",
      "                        },\n",
      "                        {\n",
      "                            \"name\": \"KS\",\n",
      "                            \"description\": \"Kolmogorov-Smirnov Distance (KS)\",\n",
      "                            \"value\": 0.010699728260869568\n",
      "                        },\n",
      "                        {\n",
      "                            \"name\": \"LP\",\n",
      "                            \"description\": \"L-p Norm (LP)\",\n",
      "                            \"value\": 0.015131700820228394\n",
      "                        },\n",
      "                        {\n",
      "                            \"name\": \"TVD\",\n",
      "                            \"description\": \"Total Variation Distance (TVD)\",\n",
      "                            \"value\": 0.01069972826086954\n",
      "                        }\n",
      "                    ]\n",
      "                }\n",
      "            ]\n",
      "        },\n",
      "        \"label_value_or_threshold\": \"0\"\n",
      "    }\u001b[0m\n",
      "\u001b[34m}\u001b[0m\n",
      "\u001b[34mINFO:analyzer.utils.system_util:exit_message: Completed: SageMaker XAI Analyzer ran successfully\u001b[0m\n",
      "\u001b[34m--!\u001b[0m\n",
      "\n"
     ]
    }
   ],
   "source": [
    "clarify_processor.run_bias(data_config=bias_data_config,\n",
    "                           bias_config=bias_config,\n",
    "                           model_config=model_config,\n",
    "                           model_predicted_label_config=predictions_config,\n",
    "                           pre_training_methods='all',\n",
    "                           post_training_methods='all')"
   ]
  },
  {
   "cell_type": "markdown",
   "metadata": {},
   "source": [
    "Now that the run is complete, let's review the bias report.\n",
    "\n",
    "#### **Viewing the bias report**\n",
    "\n",
    "In Studio, you can view the results under the **Experiments** tab.\n",
    "\n",
    "1. In the left pane, choose on **SageMaker components and registries**.\n",
    "\n",
    "1. Select **Experimentals and trials** from drop-down menu.\n",
    "\n",
    "1. Open (double-click) **Unassigned trial components**.\n",
    "\n",
    "1. Open (double-click) the trial with a name that contains **clarify-bias**.\n",
    "\n",
    "  The bias report will open in a new tab. After you have reviewed it, you will need to return to this tab (the tab labled *model_bias_clarify.ipynb*) to view the remaining instructions.\n",
    "\n",
    "1. In the new tab that opens, select **bias report** to review the report.\n",
    "\n",
    "<img src=\"./recordings/bias_report.gif\">\n",
    "\n",
    "Each bias metric has detailed explanations with examples that you can explore. Here are a few metrics to review.\n",
    "\n",
    "- **Class Imbalance(CI):** Detects if the advantaged group is represented in the dataset at a substantially higher rate than the disadvantaged group, or vice versa.\n",
    "- **Total Variation Distance (TVD):** This measure of distance in label distributions is half the Hamming distance between the probability distribution of labels of the advantaged class and the probability distribution of the disadvantaged class.\n",
    "- **Conditional Demographic Disparity in Predicted Labels (CDDPL):** The metric examines whether the model predicted a bigger proportion of rejected outcomes for the disadvantaged class than the proportion of accepted outcomes for the same class.\n",
    "\n",
    "<img src=\"./recordings/bias_detail.gif\">\n",
    "\n",
    "You could also summarize the results in a handy table. Choose the **table** icon on the right side of the page.\n",
    "\n",
    "<img src=\"./recordings/bias_report_chart.gif\">\n",
    "\n"
   ]
  },
  {
   "cell_type": "markdown",
   "metadata": {},
   "source": [
    "You may view the bias repot (formatted as a pdf, html, and ipynb a file), in the following S3 bucket."
   ]
  },
  {
   "cell_type": "code",
   "execution_count": 21,
   "metadata": {},
   "outputs": [
    {
     "data": {
      "text/plain": [
       "'s3://qls-5142924-fc6beeb7d2b314f5-modelartifactbucket-1f8d8cpcntqjm/sagemaker/clarify-bias'"
      ]
     },
     "execution_count": 21,
     "metadata": {},
     "output_type": "execute_result"
    }
   ],
   "source": [
    "bias_report_output_path"
   ]
  },
  {
   "cell_type": "markdown",
   "metadata": {},
   "source": [
    "## Explaining predictions\n",
    "\n",
    "There are expanding business needs and legislative regulations that require explanations of why a model made the decision it did. SageMaker Clarify uses SHapley Additive exPlanations (SHAP) to explain the contribution that each input feature makes to the final decision. SHAP analyzes, for each data instance, the individual contribution of feature values to the predicted output, and it represents them as a positive or negative value.\n",
    "\n",
    "The Kernel SHAP algorithm requires a baseline (also known as background dataset). Baseline dataset type must be the same as dataset_type of DataConfig, and baseline samples must only include features. By definition, the baseline dataset should either be an S3 URI to the baseline dataset file or an in-place list of samples. In this case, you chose the latter, and put the first sample of the test dataset to an in-place list."
   ]
  },
  {
   "cell_type": "markdown",
   "metadata": {},
   "source": [
    "Run the following code to add SHAP configuration."
   ]
  },
  {
   "cell_type": "code",
   "execution_count": 22,
   "metadata": {},
   "outputs": [],
   "source": [
    "shap_config = clarify.SHAPConfig(baseline=[test_data.iloc[0].values.tolist()],\n",
    "                                 num_samples=15,\n",
    "                                 agg_method='mean_abs',\n",
    "                                 save_local_shap_values=False)\n",
    "\n",
    "explainability_output_path = 's3://{}/{}/clarify-explainability'.format(bucket, prefix)\n",
    "explainability_data_config = clarify.DataConfig(s3_data_input_path=train_uri,\n",
    "                                s3_output_path=explainability_output_path,\n",
    "                                label='Churn',\n",
    "                                headers=all_headers,\n",
    "                                dataset_type='text/csv')"
   ]
  },
  {
   "cell_type": "markdown",
   "metadata": {},
   "source": [
    "Run the following cell to start Clarify and evaluate explainability. It typically takes 10 minutes to complete the task.\n",
    "\n",
    "While you are waiting for the process to complete, you can learn more about [Clarify fairness and explainability](https://docs.aws.amazon.com/sagemaker/latest/dg/clarify-fairness-and-explainability.html) here."
   ]
  },
  {
   "cell_type": "code",
   "execution_count": 23,
   "metadata": {},
   "outputs": [
    {
     "name": "stdout",
     "output_type": "stream",
     "text": [
      "\n",
      "Job Name:  Clarify-Explainability-2021-12-08-06-53-36-869\n",
      "Inputs:  [{'InputName': 'dataset', 'AppManaged': False, 'S3Input': {'S3Uri': 's3://qls-5142924-fc6beeb7d2b314f5-modelartifactbucket-1f8d8cpcntqjm/sagemaker/train.csv', 'LocalPath': '/opt/ml/processing/input/data', 'S3DataType': 'S3Prefix', 'S3InputMode': 'File', 'S3DataDistributionType': 'FullyReplicated', 'S3CompressionType': 'None'}}, {'InputName': 'analysis_config', 'AppManaged': False, 'S3Input': {'S3Uri': 's3://qls-5142924-fc6beeb7d2b314f5-modelartifactbucket-1f8d8cpcntqjm/sagemaker/clarify-explainability/analysis_config.json', 'LocalPath': '/opt/ml/processing/input/config', 'S3DataType': 'S3Prefix', 'S3InputMode': 'File', 'S3DataDistributionType': 'FullyReplicated', 'S3CompressionType': 'None'}}]\n",
      "Outputs:  [{'OutputName': 'analysis_result', 'AppManaged': False, 'S3Output': {'S3Uri': 's3://qls-5142924-fc6beeb7d2b314f5-modelartifactbucket-1f8d8cpcntqjm/sagemaker/clarify-explainability', 'LocalPath': '/opt/ml/processing/output', 'S3UploadMode': 'EndOfJob'}}]\n",
      ".............................\u001b[34mINFO:sagemaker-clarify-processing:Starting SageMaker Clarify Processing job\u001b[0m\n",
      "\u001b[34mINFO:analyzer.data_loading.data_loader_util:Analysis config path: /opt/ml/processing/input/config/analysis_config.json\u001b[0m\n",
      "\u001b[34mINFO:analyzer.data_loading.data_loader_util:Analysis result path: /opt/ml/processing/output\u001b[0m\n",
      "\u001b[34mINFO:analyzer.data_loading.data_loader_util:This host is algo-1.\u001b[0m\n",
      "\u001b[34mINFO:analyzer.data_loading.data_loader_util:This host is the leader.\u001b[0m\n",
      "\u001b[34mINFO:analyzer.data_loading.data_loader_util:Number of hosts in the cluster is 1.\u001b[0m\n",
      "\u001b[34mINFO:sagemaker-clarify-processing:Running Python / Pandas based analyzer.\u001b[0m\n",
      "\u001b[34mINFO:analyzer.data_loading.data_loader_factory:Dataset uri: /opt/ml/processing/input/data\u001b[0m\n",
      "\u001b[34mINFO:analyzer.data_loading.data_loader_factory:Dataset type: text/csv\u001b[0m\n",
      "\u001b[34mINFO:analyzer.predictor:Spinning up shadow endpoint\u001b[0m\n",
      "\u001b[34mINFO:sagemaker:Creating endpoint-config with name sagemaker-clarify-endpoint-config-1638946697-0926\u001b[0m\n",
      "\u001b[34mINFO:analyzer.predictor:Creating endpoint sagemaker-clarify-endpoint-1638946697-542a\u001b[0m\n",
      "\u001b[34mINFO:sagemaker-clarify-processing:Using endpoint name: sagemaker-clarify-endpoint-1638946697-542a\u001b[0m\n",
      "\u001b[34mINFO:sagemaker-clarify-processing:Waiting for endpoint ...\u001b[0m\n",
      "\u001b[34mINFO:analyzer.predictor:Checking endpoint status\u001b[0m\n",
      "\u001b[34mINFO:analyzer.predictor:Endpoint is in service after 120 seconds\u001b[0m\n",
      "\u001b[34mINFO:sagemaker-clarify-processing:Endpoint ready.\u001b[0m\n",
      "\u001b[34mWARNING:explainers.shap.kernel_shap:The number of requested samples 15 is too small given the number of features 69\u001b[0m\n",
      "\u001b[34mINFO:explainers.shap.kernel_shap:SHAP n_samples 15\u001b[0m\n",
      "\u001b[34mINFO:analyzer.shap.shap_analyzer:=====================================================\u001b[0m\n",
      "\u001b[34mINFO:analyzer.shap.shap_analyzer:Shap analyzer: explaining 532 rows, 69 columns...\u001b[0m\n",
      "\u001b[34mINFO:analyzer.shap.shap_analyzer:=====================================================\n",
      "  0% (0 of 532) |                        | Elapsed Time: 0:00:00 ETA:  --:--:--\u001b[0m\n",
      "\u001b[34m100% (532 of 532) |######################| Elapsed Time: 0:00:16 Time:  0:00:16\u001b[0m\n",
      "\u001b[34mINFO:analyzer.shap.shap_analyzer:getting explanations took 16.94 seconds.\u001b[0m\n",
      "\u001b[34mINFO:analyzer.shap.shap_analyzer:===================================================\u001b[0m\n",
      "\u001b[34mINFO:analyzer.shap.shap_analyzer:converting explanations to tabular took 0.18 seconds.\u001b[0m\n",
      "\u001b[34mINFO:analyzer.shap.shap_analyzer:===================================================\u001b[0m\n",
      "\u001b[34mINFO:analyzer.shap.shap_analyzer:Local explanations weren't saved, 'methods.shap.save_local_shap_values' is not enabled\u001b[0m\n",
      "\u001b[34mINFO:analyzer.shap.shap_analyzer:aggregating local explanations took 0.00 seconds.\u001b[0m\n",
      "\u001b[34mINFO:analyzer.shap.shap_analyzer:===================================================\u001b[0m\n",
      "\u001b[34mINFO:analyzer.shap.shap_analyzer:Shap analysis finished.\u001b[0m\n",
      "\u001b[34mINFO:analyzer.predictor:Stop using endpoint: sagemaker-clarify-endpoint-1638946697-542a\u001b[0m\n",
      "\u001b[34mINFO:sagemaker:Deleting endpoint configuration with name: sagemaker-clarify-endpoint-config-1638946697-0926\u001b[0m\n",
      "\u001b[34mINFO:sagemaker:Deleting endpoint with name: sagemaker-clarify-endpoint-1638946697-542a\u001b[0m\n",
      "\u001b[34mINFO:analyzer.predictor:Model endpoint delivered 30.92445 requests per second and a total of 534 requests over 17 seconds\u001b[0m\n",
      "\u001b[34mINFO:analyzer.report:Local shap values path does not exist.\u001b[0m\n",
      "\u001b[34mINFO:analyzer.report:Unable to display local shap values, local shap values not found\u001b[0m\n",
      "\u001b[34mINFO:analyzer.report:jupyter nbconvert --to html --output /opt/ml/processing/output/report.html /opt/ml/processing/output/report.ipynb --template sagemaker-xai\u001b[0m\n",
      "\u001b[34m[NbConvertApp] Converting notebook /opt/ml/processing/output/report.ipynb to html\u001b[0m\n",
      "\u001b[34m[NbConvertApp] Writing 309274 bytes to /opt/ml/processing/output/report.html\u001b[0m\n",
      "\u001b[34mINFO:analyzer.report:HTML report '/opt/ml/processing/output/report.html' generated successfully.\u001b[0m\n",
      "\u001b[34mINFO:analyzer.report:wkhtmltopdf -q /opt/ml/processing/output/report.html /opt/ml/processing/output/report.pdf\u001b[0m\n",
      "\u001b[34mINFO:analyzer.report:PDF report '/opt/ml/processing/output/report.pdf' generated successfully.\u001b[0m\n",
      "\u001b[34mINFO:sagemaker-clarify-processing:Collected analyses: \u001b[0m\n",
      "\u001b[34m{\n",
      "    \"version\": \"1.0\",\n",
      "    \"explanations\": {\n",
      "        \"kernel_shap\": {\n",
      "            \"label0\": {\n",
      "                \"global_shap_values\": {\n",
      "                    \"Account Length\": 0.0029931569627812582,\n",
      "                    \"VMail Message\": 0.0023243368667019144,\n",
      "                    \"Day Mins\": 0.005309747318867753,\n",
      "                    \"Day Calls\": 0.0023881340779125337,\n",
      "                    \"Eve Mins\": 0.004283476254464986,\n",
      "                    \"Eve Calls\": 0.003260589639944748,\n",
      "                    \"Night Mins\": 0.0018945449963761333,\n",
      "                    \"Night Calls\": 0.002947928785696435,\n",
      "                    \"Intl Mins\": 0.0022070362199987873,\n",
      "                    \"Intl Calls\": 0.0026447208791480726,\n",
      "                    \"CustServ Calls\": 0.006170908339012619,\n",
      "                    \"State_AK\": 0.0028590356312099417,\n",
      "                    \"State_AL\": 0.0025792518512615815,\n",
      "                    \"State_AR\": 0.002490537186993742,\n",
      "                    \"State_AZ\": 0.0023500464982608707,\n",
      "                    \"State_CA\": 0.002546685661051358,\n",
      "                    \"State_CO\": 0.002578736598576106,\n",
      "                    \"State_CT\": 0.002269592654034242,\n",
      "                    \"State_DC\": 0.0028802011614805635,\n",
      "                    \"State_DE\": 0.002176087858545857,\n",
      "                    \"State_FL\": 0.0032695880321389767,\n",
      "                    \"State_GA\": 0.002880115783275788,\n",
      "                    \"State_HI\": 0.0028048706196995023,\n",
      "                    \"State_IA\": 0.0022028328607095918,\n",
      "                    \"State_ID\": 0.0024764155228606836,\n",
      "                    \"State_IL\": 0.002954324201466152,\n",
      "                    \"State_IN\": 0.0033052027336481524,\n",
      "                    \"State_KS\": 0.002396802147600794,\n",
      "                    \"State_KY\": 0.0020815252313052092,\n",
      "                    \"State_LA\": 0.0026688710287316123,\n",
      "                    \"State_MA\": 0.002257121792438849,\n",
      "                    \"State_MD\": 0.0024710529225004515,\n",
      "                    \"State_ME\": 0.0021141542087091355,\n",
      "                    \"State_MI\": 0.0020988391937563303,\n",
      "                    \"State_MN\": 0.0025273781154781304,\n",
      "                    \"State_MO\": 0.00226230499947108,\n",
      "                    \"State_MS\": 0.0022348920659818697,\n",
      "                    \"State_MT\": 0.0023606274931607944,\n",
      "                    \"State_NC\": 0.0024402182018562857,\n",
      "                    \"State_ND\": 0.00216332431420683,\n",
      "                    \"State_NE\": 0.002580243447824468,\n",
      "                    \"State_NH\": 0.003221459733948599,\n",
      "                    \"State_NJ\": 0.002706270246495198,\n",
      "                    \"State_NM\": 0.0028648372385818095,\n",
      "                    \"State_NV\": 0.0021152019770640917,\n",
      "                    \"State_NY\": 0.0023961283649517164,\n",
      "                    \"State_OH\": 0.002425646061120557,\n",
      "                    \"State_OK\": 0.002457493200595764,\n",
      "                    \"State_OR\": 0.0022673094229487467,\n",
      "                    \"State_PA\": 0.00209593248210821,\n",
      "                    \"State_RI\": 0.0023604251712778246,\n",
      "                    \"State_SC\": 0.0022561287020338057,\n",
      "                    \"State_SD\": 0.0021973309432466058,\n",
      "                    \"State_TN\": 0.0024064510959622572,\n",
      "                    \"State_TX\": 0.002817373373290094,\n",
      "                    \"State_UT\": 0.0021014425123625897,\n",
      "                    \"State_VA\": 0.0026717485373707814,\n",
      "                    \"State_VT\": 0.003338744921298137,\n",
      "                    \"State_WA\": 0.0022158944331618223,\n",
      "                    \"State_WI\": 0.002353369302966755,\n",
      "                    \"State_WV\": 0.002234155708352659,\n",
      "                    \"State_WY\": 0.002574513758476233,\n",
      "                    \"Area Code_408\": 0.002507730023402949,\n",
      "                    \"Area Code_415\": 0.0020196240256689776,\n",
      "                    \"Area Code_510\": 0.002547892271708335,\n",
      "                    \"Int'l Plan_no\": 0.002628636947440815,\n",
      "                    \"Int'l Plan_yes\": 0.002888933681730942,\n",
      "                    \"VMail Plan_no\": 0.0022135974061298323,\n",
      "                    \"VMail Plan_yes\": 0.04599569542381324\n",
      "                },\n",
      "                \"expected_value\": 0.0\n",
      "            }\n",
      "        }\n",
      "    }\u001b[0m\n",
      "\u001b[34m}\u001b[0m\n",
      "\u001b[34mINFO:analyzer.utils.system_util:exit_message: Completed: SageMaker XAI Analyzer ran successfully\u001b[0m\n",
      "\u001b[34mINFO:analyzer.predictor:Stop using endpoint: None\u001b[0m\n",
      "\u001b[34m--!\u001b[0m\n",
      "\n"
     ]
    }
   ],
   "source": [
    "clarify_processor.run_explainability(data_config=explainability_data_config,\n",
    "                                     model_config=model_config,\n",
    "                                     explainability_config=shap_config)"
   ]
  },
  {
   "cell_type": "markdown",
   "metadata": {},
   "source": [
    "Now that the run is complete, let's review the explainability report.\n",
    "\n",
    "#### Viewing the explainability report\n",
    "As with the bias report, you can view the explainability report in SageMaker Studio under the **Experiments** tab.\n",
    "\n",
    "1. In the left pane, choose the **SageMaker components and registries**.\n",
    "\n",
    "1. Select **Experimentals and trials** from drop-down menu.\n",
    "\n",
    "1. Select **Unassigned trial components**.\n",
    "\n",
    "1. Select the name with **clarify-explainability** and select **model explainability** to review the report.\n",
    "\n",
    "\n",
    "<img src=\"./recordings/explainability_detail.gif\">\n",
    "\n",
    "#### **Question:** Based on the report, which feature has the highest importance in determining the churn prediction?\n",
    "\n",
    "You may view the bias report (formatted as PDF, HTML, or ipynb) in the following S3 bucket."
   ]
  },
  {
   "cell_type": "code",
   "execution_count": 24,
   "metadata": {},
   "outputs": [
    {
     "data": {
      "text/plain": [
       "'s3://qls-5142924-fc6beeb7d2b314f5-modelartifactbucket-1f8d8cpcntqjm/sagemaker/clarify-explainability'"
      ]
     },
     "execution_count": 24,
     "metadata": {},
     "output_type": "execute_result"
    }
   ],
   "source": [
    "explainability_output_path"
   ]
  },
  {
   "cell_type": "markdown",
   "metadata": {},
   "source": [
    "### Clean up\n",
    "\n",
    "Finally, don't forget to clean up the resources you set up and used for this demo."
   ]
  },
  {
   "cell_type": "code",
   "execution_count": 25,
   "metadata": {},
   "outputs": [],
   "source": [
    "sagemaker_session.delete_model(model_name)"
   ]
  },
  {
   "cell_type": "code",
   "execution_count": null,
   "metadata": {},
   "outputs": [],
   "source": []
  }
 ],
 "metadata": {
  "instance_type": "ml.t3.medium",
  "kernelspec": {
   "display_name": "Python 3 (Data Science)",
   "language": "python",
   "name": "python3__SAGEMAKER_INTERNAL__arn:aws:sagemaker:us-west-2:236514542706:image/datascience-1.0"
  },
  "language_info": {
   "codemirror_mode": {
    "name": "ipython",
    "version": 3
   },
   "file_extension": ".py",
   "mimetype": "text/x-python",
   "name": "python",
   "nbconvert_exporter": "python",
   "pygments_lexer": "ipython3",
   "version": "3.7.10"
  }
 },
 "nbformat": 4,
 "nbformat_minor": 4
}
